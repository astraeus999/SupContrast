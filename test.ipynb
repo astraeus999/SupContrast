{
 "cells": [
  {
   "cell_type": "code",
   "execution_count": 1,
   "metadata": {},
   "outputs": [],
   "source": [
    "import torch\n",
    "import torch.nn as nn\n",
    "import torch.optim as optim\n",
    "import numpy as np\n",
    "import torchvision.transforms as transforms\n",
    "import torchvision.datasets as datasets\n",
    "from torch.utils.data import DataLoader, Dataset, random_split\n",
    "import matplotlib.pyplot as plt\n",
    "import os\n",
    "from PIL import Image\n"
   ]
  },
  {
   "cell_type": "code",
   "execution_count": 2,
   "metadata": {},
   "outputs": [
    {
     "name": "stdout",
     "output_type": "stream",
     "text": [
      "Number of training batches: 22\n",
      "Number of test batches: 3\n"
     ]
    }
   ],
   "source": [
    "\n",
    "# Custom dataset for labeled images\n",
    "class LabeledImageDataset(Dataset):\n",
    "    def __init__(self, image_folder, labels_file, transform=None):\n",
    "        self.image_folder = image_folder\n",
    "        self.labels = np.load(labels_file)  # Load labels from numpy array\n",
    "        self.image_files = sorted(os.listdir(image_folder))  # Ensure sorted order\n",
    "        self.transform = transform\n",
    "    \n",
    "    def __len__(self):\n",
    "        return len(self.image_files)\n",
    "    \n",
    "    def __getitem__(self, idx):\n",
    "        img_path = os.path.join(self.image_folder, self.image_files[idx])\n",
    "        image = Image.open(img_path).convert(\"L\")  # Convert to grayscale\n",
    "        label = torch.tensor(0 if self.labels[idx] == 0 else 1, dtype=torch.long)\n",
    "        if self.transform:\n",
    "            image = self.transform(image)\n",
    "        return image, label\n",
    "\n",
    "\n",
    "def get_dataloader(image_folder, labels_file, batch_size=4):\n",
    "    transform = transforms.Compose([transforms.Grayscale(), transforms.ToTensor()])\n",
    "    dataset = LabeledImageDataset(image_folder, labels_file, transform=transform)\n",
    "    dataloader = DataLoader(dataset, batch_size=batch_size, shuffle=True)\n",
    "    return dataloader\n",
    "\n",
    "\n",
    "# Main execution\n",
    "image_folder = \"labeled_images\"\n",
    "labels_file = \"labels.npy\"\n",
    "# dataloader = get_dataloader(image_folder, labels_file)\n",
    "\n",
    "\n",
    "\n",
    "dataset = LabeledImageDataset(image_folder, labels_file, transform=transforms.Compose([transforms.Grayscale(), transforms.ToTensor()]))\n",
    "\n",
    "# Calculate the sizes for training and test sets\n",
    "test_size = int(0.12 * len(dataset))\n",
    "train_size = len(dataset) - test_size\n",
    "\n",
    "# Split the dataset\n",
    "train_dataset, test_dataset = random_split(dataset, [train_size, test_size])\n",
    "\n",
    "# Create DataLoaders for training and test sets\n",
    "train_loader = DataLoader(train_dataset, batch_size=4, shuffle=True)\n",
    "test_loader = DataLoader(test_dataset, batch_size=4, shuffle=False)\n",
    "\n",
    "# Print the number of batches in train and test loaders\n",
    "print(f\"Number of training batches: {len(train_loader)}\")\n",
    "print(f\"Number of test batches: {len(test_loader)}\")\n",
    "    \n",
    "\n"
   ]
  },
  {
   "cell_type": "code",
   "execution_count": 3,
   "metadata": {},
   "outputs": [
    {
     "name": "stdout",
     "output_type": "stream",
     "text": [
      "Epoch 1, Loss: 0.6915\n",
      "Epoch 2, Loss: 0.9326\n",
      "Epoch 3, Loss: 0.6039\n",
      "Epoch 4, Loss: 0.4501\n",
      "Epoch 5, Loss: 1.1831\n"
     ]
    }
   ],
   "source": [
    "class Classifier(nn.Module):\n",
    "    def __init__(self):\n",
    "        super(Classifier, self).__init__()\n",
    "        self.conv = nn.Sequential(\n",
    "            nn.Conv2d(1, 32, 3, padding=1),\n",
    "            nn.ReLU(),\n",
    "            nn.Conv2d(32, 64, 3, padding=1),\n",
    "            nn.ReLU(),\n",
    "            nn.AdaptiveAvgPool2d((1,1))\n",
    "        )\n",
    "        self.fc = nn.Linear(64, 2)  # Two classes: 0 and 1\n",
    "    \n",
    "    def forward(self, x):\n",
    "        x = self.conv(x)\n",
    "        x = x.view(x.size(0), -1)\n",
    "        return self.fc(x)\n",
    "\n",
    "class DiffusionClassifier:\n",
    "    def __init__(self):\n",
    "        self.model = Classifier()\n",
    "        self.optimizer = optim.Adam(self.model.parameters(), lr=1e-3)\n",
    "        self.criterion = nn.CrossEntropyLoss()\n",
    "    \n",
    "    def train(self, dataloader, epochs=5):\n",
    "        for epoch in range(epochs):\n",
    "            for images, labels in dataloader:\n",
    "                images, labels = images, labels\n",
    "                outputs = self.model(images)\n",
    "                loss = self.criterion(outputs, labels)\n",
    "                \n",
    "                self.optimizer.zero_grad()\n",
    "                loss.backward()\n",
    "                self.optimizer.step()\n",
    "            print(f\"Epoch {epoch+1}, Loss: {loss.item():.4f}\")\n",
    "    \n",
    "    def predict(self, images):\n",
    "        self.model.eval()\n",
    "        with torch.no_grad():\n",
    "            images = images.cuda()\n",
    "            outputs = self.model(images)\n",
    "            predictions = torch.argmax(outputs, dim=1).cpu().numpy()\n",
    "        return predictions\n",
    "\n",
    "# Data preparation for labeled grayscale PNG images\n",
    "\n",
    "# train model\n",
    "diffusion_classifier = DiffusionClassifier()\n",
    "diffusion_classifier.train(train_loader)\n"
   ]
  },
  {
   "cell_type": "markdown",
   "metadata": {},
   "source": []
  }
 ],
 "metadata": {
  "kernelspec": {
   "display_name": "Python 3",
   "language": "python",
   "name": "python3"
  },
  "language_info": {
   "codemirror_mode": {
    "name": "ipython",
    "version": 3
   },
   "file_extension": ".py",
   "mimetype": "text/x-python",
   "name": "python",
   "nbconvert_exporter": "python",
   "pygments_lexer": "ipython3",
   "version": "3.11.8"
  }
 },
 "nbformat": 4,
 "nbformat_minor": 2
}
